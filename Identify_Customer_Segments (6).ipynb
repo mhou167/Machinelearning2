{
 "cells": [
  {
   "cell_type": "markdown",
   "metadata": {},
   "source": [
    "### Prerequsite - Upgrade Scikit Learn\n",
    "The current workspace has scikit-learn v0.19.1 installed. However, you can upgrade scikit-learn to 0.24.x. and use this [OneHotEncoder](https://scikit-learn.org/0.21/modules/generated/sklearn.preprocessing.OneHotEncoder.html) library. \n"
   ]
  },
  {
   "cell_type": "code",
   "execution_count": null,
   "metadata": {},
   "outputs": [],
   "source": [
    "import sklearn\n",
    "print('The scikit-learn version is {}.'.format(sklearn.__version__))"
   ]
  },
  {
   "cell_type": "code",
   "execution_count": null,
   "metadata": {},
   "outputs": [],
   "source": [
    "import os\n",
    "os.environ['PATH'] = f\"{os.environ['PATH']}:/root/.local/bin\""
   ]
  },
  {
   "cell_type": "raw",
   "metadata": {},
   "source": [
    "Restart the Kernel. "
   ]
  },
  {
   "cell_type": "code",
   "execution_count": null,
   "metadata": {},
   "outputs": [],
   "source": [
    "!python -m pip install --upgrade scikit-learn\n",
    "import sklearn\n",
    "print('The scikit-learn version is {}.'.format(sklearn.__version__))"
   ]
  },
  {
   "cell_type": "code",
   "execution_count": null,
   "metadata": {},
   "outputs": [],
   "source": [
    "# Now you can import and use OneHotEncoder\n",
    "from sklearn.preprocessing import OneHotEncoder\n",
    "# your code goes here"
   ]
  },
  {
   "cell_type": "code",
   "execution_count": null,
   "metadata": {},
   "outputs": [],
   "source": [
    "# Similarly, should you need any other package, they can install it as:\n",
    "!python -m pip install 'tensorflow-tensorboard<0.2.0,>=0.1.0'"
   ]
  },
  {
   "cell_type": "markdown",
   "metadata": {},
   "source": [
    "# Project: Identify Customer Segments\n",
    "\n",
    "In this project, you will apply unsupervised learning techniques to identify segments of the population that form the core customer base for a mail-order sales company in Germany. These segments can then be used to direct marketing campaigns towards audiences that will have the highest expected rate of returns. The data that you will use has been provided by our partners at Bertelsmann Arvato Analytics, and represents a real-life data science task.\n",
    "\n",
    "This notebook will help you complete this task by providing a framework within which you will perform your analysis steps. In each step of the project, you will see some text describing the subtask that you will perform, followed by one or more code cells for you to complete your work. **Feel free to add additional code and markdown cells as you go along so that you can explore everything in precise chunks.** The code cells provided in the base template will outline only the major tasks, and will usually not be enough to cover all of the minor tasks that comprise it.\n",
    "\n",
    "It should be noted that while there will be precise guidelines on how you should handle certain tasks in the project, there will also be places where an exact specification is not provided. **There will be times in the project where you will need to make and justify your own decisions on how to treat the data.** These are places where there may not be only one way to handle the data. In real-life tasks, there may be many valid ways to approach an analysis task. One of the most important things you can do is clearly document your approach so that other scientists can understand the decisions you've made.\n",
    "\n",
    "At the end of most sections, there will be a Markdown cell labeled **Discussion**. In these cells, you will report your findings for the completed section, as well as document the decisions that you made in your approach to each subtask. **Your project will be evaluated not just on the code used to complete the tasks outlined, but also your communication about your observations and conclusions at each stage.**"
   ]
  },
  {
   "cell_type": "code",
   "execution_count": null,
   "metadata": {},
   "outputs": [],
   "source": [
    "# import libraries here; add more as necessary\n",
    "import numpy as np\n",
    "import pandas as pd\n",
    "import matplotlib.pyplot as plt\n",
    "import seaborn as sns\n",
    "\n",
    "# magic word for producing visualizations in notebook\n",
    "%matplotlib inline\n",
    "\n",
    "'''\n",
    "Import note: The classroom currently uses sklearn version 0.19.\n",
    "If you need to use an imputer, it is available in sklearn.preprocessing.Imputer,\n",
    "instead of sklearn.impute as in newer versions of sklearn.\n",
    "'''\n",
    "pd.options.display.max_rows = None\n",
    "pd.options.display.max_columns = None"
   ]
  },
  {
   "cell_type": "markdown",
   "metadata": {},
   "source": [
    "### Step 0: Load the Data\n",
    "\n",
    "There are four files associated with this project (not including this one):\n",
    "\n",
    "- `Udacity_AZDIAS_Subset.csv`: Demographics data for the general population of Germany; 891211 persons (rows) x 85 features (columns).\n",
    "- `Udacity_CUSTOMERS_Subset.csv`: Demographics data for customers of a mail-order company; 191652 persons (rows) x 85 features (columns).\n",
    "- `Data_Dictionary.md`: Detailed information file about the features in the provided datasets.\n",
    "- `AZDIAS_Feature_Summary.csv`: Summary of feature attributes for demographics data; 85 features (rows) x 4 columns\n",
    "\n",
    "\n"
   ]
  },
  {
   "cell_type": "code",
   "execution_count": null,
   "metadata": {},
   "outputs": [],
   "source": [
    "# Load in the general demographics data.\n",
    "df_general_dems = pd.read_csv('Udacity_AZDIAS_Subset.csv', sep=';')\n",
    "# Load in the feature summary file.\n",
    "df_feature_summary = pd.read_csv('AZDIAS_Feature_Summary.csv', sep=';')"
   ]
  },
  {
   "cell_type": "code",
   "execution_count": null,
   "metadata": {},
   "outputs": [],
   "source": [
    "# Check the structure of the data after it's loaded (e.g. print the number of\n",
    "# rows and columns, print the first few rows).\n",
    "df_general_dems.head(5)\n",
    "\n"
   ]
  },
  {
   "cell_type": "code",
   "execution_count": null,
   "metadata": {},
   "outputs": [],
   "source": [
    "df_general_dems.info()"
   ]
  },
  {
   "cell_type": "code",
   "execution_count": null,
   "metadata": {},
   "outputs": [],
   "source": [
    "df_feature_summary.head(10)"
   ]
  },
  {
   "cell_type": "code",
   "execution_count": null,
   "metadata": {},
   "outputs": [],
   "source": [
    "df_feature_summary.info()"
   ]
  },
  {
   "cell_type": "markdown",
   "metadata": {},
   "source": [
    "\n",
    "\n",
    "## Step 1: Preprocessing\n",
    "\n",
    "### Step 1.1: Assess Missing Data\n",
    "\n",
    "The feature summary file contains a summary of properties for each demographics data column. You will use this file to help you make cleaning decisions during this stage of the project. First of all, you should assess the demographics data in terms of missing data. Pay attention to the following points as you perform your analysis, and take notes on what you observe. Make sure that you fill in the **Discussion** cell with your findings and decisions at the end of each step that has one!\n",
    "\n",
    "#### Step 1.1.1: Convert Missing Value Codes to NaNs\n",
    "The fourth column of the feature attributes summary (loaded in above as `feat_info`) documents the codes from the data dictionary that indicate missing or unknown data. While the file encodes this as a list (e.g. `[-1,0]`), this will get read in as a string object. You'll need to do a little bit of parsing to make use of it to identify and clean the data. Convert data that matches a 'missing' or 'unknown' value code into a numpy NaN value. You might want to see how much data takes on a 'missing' or 'unknown' code, and how much data is naturally missing, as a point of interest.\n",
    "\n",
    "**As one more reminder, you are encouraged to add additional cells to break up your analysis into manageable chunks.**"
   ]
  },
  {
   "cell_type": "code",
   "execution_count": null,
   "metadata": {},
   "outputs": [],
   "source": [
    "# Identify missing or unknown data values and convert them to NaNs.\n",
    "df_general_dems.isnull().sum().sum()\n"
   ]
  },
  {
   "cell_type": "markdown",
   "metadata": {},
   "source": [
    "Looking at the data dictionary file I know that all the 'unknown values' are -1 and 0.  The df_feature_summary shows the column \"missing or unknown\" has extra values, like \"9\" but looking at the data dictionary, 9 is an assignment value of several different values depending on the column.  All 0's and -1's are unknown or missing."
   ]
  },
  {
   "cell_type": "code",
   "execution_count": null,
   "metadata": {},
   "outputs": [],
   "source": [
    "for attribute, miss_index in zip(df_feature_summary['attribute'], df_feature_summary['missing_or_unknown']):\n",
    "    missing_values = miss_index.strip('[]').split(',')\n",
    "    missing_values = [int(value) if (value!='X' and value!='XX' and value!='') else value for value in missing_values]\n",
    "    if missing_values != ['']:\n",
    "        df_general_dems[attribute] = df_general_dems[attribute].replace(missing_values, np.nan)"
   ]
  },
  {
   "cell_type": "code",
   "execution_count": null,
   "metadata": {},
   "outputs": [],
   "source": [
    "print('Total number of missing values after conversion is {}'.format(df_general_dems.isnull().sum().sum()))"
   ]
  },
  {
   "cell_type": "code",
   "execution_count": null,
   "metadata": {
    "scrolled": true
   },
   "outputs": [],
   "source": [
    "df_general_dems.head(15)"
   ]
  },
  {
   "cell_type": "markdown",
   "metadata": {},
   "source": [
    "I can now see that all my missing values have been converted to NaN."
   ]
  },
  {
   "cell_type": "markdown",
   "metadata": {},
   "source": [
    "#### Step 1.1.2: Assess Missing Data in Each Column\n",
    "\n",
    "How much missing data is present in each column? There are a few columns that are outliers in terms of the proportion of values that are missing. You will want to use matplotlib's [`hist()`](https://matplotlib.org/api/_as_gen/matplotlib.pyplot.hist.html) function to visualize the distribution of missing value counts to find these columns. Identify and document these columns. While some of these columns might have justifications for keeping or re-encoding the data, for this project you should just remove them from the dataframe. (Feel free to make remarks about these outlier columns in the discussion, however!)\n",
    "\n",
    "For the remaining features, are there any patterns in which columns have, or share, missing data?"
   ]
  },
  {
   "cell_type": "code",
   "execution_count": null,
   "metadata": {},
   "outputs": [],
   "source": [
    "percent_missing_per_column = df_general_dems.isnull().sum() * 100 / len(df_general_dems)\n",
    "\n",
    "plt.hist(percent_missing_per_column, bins=100)\n",
    "plt.ylabel('Number of Columns')\n",
    "plt.xlabel('Percentage of Missing Values')\n",
    "plt.show()"
   ]
  },
  {
   "cell_type": "code",
   "execution_count": null,
   "metadata": {},
   "outputs": [],
   "source": [
    "above_30 = percent_missing_per_column[percent_missing_per_column > 30.00]\n",
    "\n",
    "print(above_30) "
   ]
  },
  {
   "cell_type": "markdown",
   "metadata": {},
   "source": [
    "There are six columns that major outliers that I will be removing.  They are:\n",
    "\n",
    " - AGER_TYP (Best-ager typology)\n",
    " - GEBURTSJAHR (Year of birth)\n",
    " - TITEL_KZ (Academic Title Flag - i.e. Dr. or Prof. title)\n",
    " - ALTER_HH (Birthdate of head of household)\n",
    " - KK_KUNDENTYP (Consumer pattern over past 12 months)\n",
    " - KBA05_BAUMAX (Most common building type within the microcell)             \n"
   ]
  },
  {
   "cell_type": "code",
   "execution_count": null,
   "metadata": {
    "scrolled": true
   },
   "outputs": [],
   "source": [
    "# Remove the outlier columns from the dataset. (You'll perform other data\n",
    "# engineering tasks such as re-encoding and imputation later.)\n",
    "\n",
    "df_general_dems = df_general_dems.drop(columns=['AGER_TYP', 'GEBURTSJAHR', 'ANZ_HH_TITEL', 'TITEL_KZ', 'ALTER_HH', 'KK_KUNDENTYP', 'KBA05_BAUMAX'])\n",
    "df_general_dems.head()"
   ]
  },
  {
   "cell_type": "markdown",
   "metadata": {},
   "source": [
    "#### Discussion 1.1.2: Assess Missing Data in Each Column\n",
    "\n",
    "I have removed the columns that include more than 30% missing data.  The columns removed are:\n",
    "\n",
    " - AGER_TYP (Best-ager typology)\n",
    " - GEBURTSJAHR (Year of birth)\n",
    " - TITEL_KZ (Academic Title Flag - i.e. Dr. or Prof. title)\n",
    " - ALTER_HH (Birthdate of head of household)\n",
    " - KK_KUNDENTYP (Consumer pattern over past 12 months)\n",
    " - KBA05_BAUMAX (Most common building type within the microcell)"
   ]
  },
  {
   "cell_type": "markdown",
   "metadata": {},
   "source": [
    "#### Step 1.1.3: Assess Missing Data in Each Row\n",
    "\n",
    "Now, you'll perform a similar assessment for the rows of the dataset. How much data is missing in each row? As with the columns, you should see some groups of points that have a very different numbers of missing values. Divide the data into two subsets: one for data points that are above some threshold for missing values, and a second subset for points below that threshold.\n",
    "\n",
    "In order to know what to do with the outlier rows, we should see if the distribution of data values on columns that are not missing data (or are missing very little data) are similar or different between the two groups. Select at least five of these columns and compare the distribution of values.\n",
    "- You can use seaborn's [`countplot()`](https://seaborn.pydata.org/generated/seaborn.countplot.html) function to create a bar chart of code frequencies and matplotlib's [`subplot()`](https://matplotlib.org/api/_as_gen/matplotlib.pyplot.subplot.html) function to put bar charts for the two subplots side by side.\n",
    "- To reduce repeated code, you might want to write a function that can perform this comparison, taking as one of its arguments a column to be compared.\n",
    "\n",
    "Depending on what you observe in your comparison, this will have implications on how you approach your conclusions later in the analysis. If the distributions of non-missing features look similar between the data with many missing values and the data with few or no missing values, then we could argue that simply dropping those points from the analysis won't present a major issue. On the other hand, if the data with many missing values looks very different from the data with few or no missing values, then we should make a note on those data as special. We'll revisit these data later on. **Either way, you should continue your analysis for now using just the subset of the data with few or no missing values.**"
   ]
  },
  {
   "cell_type": "code",
   "execution_count": null,
   "metadata": {},
   "outputs": [],
   "source": [
    "# How much data is missing in each row of the dataset?\n",
    "df_general_dems['Missing_data_rows'] = df_general_dems.isna().sum(axis=1)\n",
    "\n",
    "plt.figure(figsize=(15,6))\n",
    "sns.countplot(x='Missing_data_rows', data=df_general_dems)\n",
    "plt.title('Missing Values by Row')\n",
    "plt.show()"
   ]
  },
  {
   "cell_type": "markdown",
   "metadata": {},
   "source": [
    "What I can gather from this visual is that:\n",
    " \n",
    " - most (more than 600,000) of the rows have zero missing data.\n",
    " - the most missing data any row has is 46 cells.\n",
    " - the majority of missing data lies around 11 missing cells.\n",
    " \n",
    "Based on this, I am going to split the data into missing data in 11 or less cells, and then the rest."
   ]
  },
  {
   "cell_type": "code",
   "execution_count": null,
   "metadata": {},
   "outputs": [],
   "source": [
    "# Write code to divide the data into two subsets based on the number of missing\n",
    "# values in each row.\n",
    "\n",
    "threshold = 11\n",
    "\n",
    "dataset_less = df_general_dems[df_general_dems['Missing_data_rows'] <= threshold]\n",
    "\n",
    "dataset_more = df_general_dems[df_general_dems['Missing_data_rows'] > threshold]\n",
    "\n"
   ]
  },
  {
   "cell_type": "code",
   "execution_count": null,
   "metadata": {},
   "outputs": [],
   "source": [
    "sns.countplot(x='Missing_data_rows', data=dataset_more)\n",
    "plt.title('Missing Values by Row')\n",
    "plt.show()"
   ]
  },
  {
   "cell_type": "code",
   "execution_count": null,
   "metadata": {},
   "outputs": [],
   "source": [
    "fig, axes = plt.subplots(1, 2, figsize=(15, 5))\n",
    "\n",
    "sns.countplot(x='Missing_data_rows', data=dataset_less, ax=axes[0])\n",
    "axes[0].set_title('Rows with Missing Data in 11 or Fewer Cells')\n",
    "\n",
    "\n",
    "sns.countplot(x='Missing_data_rows', data=dataset_more, ax=axes[1])\n",
    "axes[1].set_title('Rows with Missing Data in More than 11 Cells')\n",
    "axes[1].set_ylim(0, 600000)\n",
    "\n",
    "\n",
    "plt.tight_layout()\n",
    "plt.show()"
   ]
  },
  {
   "cell_type": "markdown",
   "metadata": {},
   "source": [
    "I know the majority of rows have zero missing data.  So I'm reducing my yaxis to 60000 to see how that differs."
   ]
  },
  {
   "cell_type": "code",
   "execution_count": null,
   "metadata": {},
   "outputs": [],
   "source": [
    "fig, axes = plt.subplots(1, 2, figsize=(15, 5))\n",
    "\n",
    "sns.countplot(x='Missing_data_rows', data=dataset_less, ax=axes[0])\n",
    "axes[0].set_title('Rows with Missing Data in 11 or Fewer Cells')\n",
    "axes[0].set_ylim(0, 60000)\n",
    "\n",
    "sns.countplot(x='Missing_data_rows', data=dataset_more, ax=axes[1])\n",
    "axes[1].set_title('Rows with Missing Data in More than 11 Cells')\n",
    "axes[1].set_ylim(0, 60000)\n",
    "\n",
    "\n",
    "plt.tight_layout()\n",
    "plt.show()"
   ]
  },
  {
   "cell_type": "markdown",
   "metadata": {},
   "source": [
    "#### Discussion 1.1.3: Assess Missing Data in Each Row\n",
    "\n",
    "\n",
    "Comparing the distributions between these two graphs, as I am looking at rows that are missing 5 or fewer data points, this makes up the majority of the data. \n",
    "\n",
    "The data with a lot of missing values are qualitatively different from data with few or no missing values.  Visually, you can see the graph on the left is the majority of the data."
   ]
  },
  {
   "cell_type": "markdown",
   "metadata": {},
   "source": [
    "### Step 1.2: Select and Re-Encode Features\n",
    "\n",
    "Checking for missing data isn't the only way in which you can prepare a dataset for analysis. Since the unsupervised learning techniques to be used will only work on data that is encoded numerically, you need to make a few encoding changes or additional assumptions to be able to make progress. In addition, while almost all of the values in the dataset are encoded using numbers, not all of them represent numeric values. Check the third column of the feature summary (`feat_info`) for a summary of types of measurement.\n",
    "- For numeric and interval data, these features can be kept without changes.\n",
    "- Most of the variables in the dataset are ordinal in nature. While ordinal values may technically be non-linear in spacing, make the simplifying assumption that the ordinal variables can be treated as being interval in nature (that is, kept without any changes).\n",
    "- Special handling may be necessary for the remaining two variable types: categorical, and 'mixed'.\n",
    "\n",
    "In the first two parts of this sub-step, you will perform an investigation of the categorical and mixed-type features and make a decision on each of them, whether you will keep, drop, or re-encode each. Then, in the last part, you will create a new data frame with only the selected and engineered columns.\n",
    "\n",
    "Data wrangling is often the trickiest part of the data analysis process, and there's a lot of it to be done here. But stick with it: once you're done with this step, you'll be ready to get to the machine learning parts of the project!"
   ]
  },
  {
   "cell_type": "code",
   "execution_count": null,
   "metadata": {},
   "outputs": [],
   "source": [
    "df_feature_summary.head()"
   ]
  },
  {
   "cell_type": "code",
   "execution_count": null,
   "metadata": {},
   "outputs": [],
   "source": [
    "# How many features are there of each data type?\n",
    "\n",
    "df_feature_summary['type'].unique()"
   ]
  },
  {
   "cell_type": "markdown",
   "metadata": {},
   "source": [
    "There are 5 features of each data type:\n",
    "\n",
    " - categorical\n",
    " - ordinal\n",
    " - numeric\n",
    " - mixed\n",
    " - interval"
   ]
  },
  {
   "cell_type": "markdown",
   "metadata": {},
   "source": [
    "#### Step 1.2.1: Re-Encode Categorical Features\n",
    "\n",
    "For categorical data, you would ordinarily need to encode the levels as dummy variables. Depending on the number of categories, perform one of the following:\n",
    "- For binary (two-level) categoricals that take numeric values, you can keep them without needing to do anything.\n",
    "- There is one binary variable that takes on non-numeric values. For this one, you need to re-encode the values as numbers or create a dummy variable.\n",
    "- For multi-level categoricals (three or more values), you can choose to encode the values using multiple dummy variables (e.g. via [OneHotEncoder](http://scikit-learn.org/stable/modules/generated/sklearn.preprocessing.OneHotEncoder.html)), or (to keep things straightforward) just drop them from the analysis. As always, document your choices in the Discussion section."
   ]
  },
  {
   "cell_type": "code",
   "execution_count": null,
   "metadata": {},
   "outputs": [],
   "source": [
    "# Assess categorical variables: which are binary, which are multi-level, and\n",
    "# which one needs to be re-encoded?\n",
    "\n",
    "type_categorical = df_feature_summary[df_feature_summary['type'] == 'categorical']\n",
    "\n",
    "type_categorical"
   ]
  },
  {
   "cell_type": "code",
   "execution_count": null,
   "metadata": {},
   "outputs": [],
   "source": [
    "type_categorical['attribute'].unique()"
   ]
  },
  {
   "cell_type": "markdown",
   "metadata": {},
   "source": [
    "I am using my data_less dataset, so I need to remember that I have removed some of these columns. If I call on them, I will get an error.  I will remove the following columns from my search:\n",
    "\n",
    " - AGER_TYP \n",
    " - GEBURTSJAHR \n",
    " - TITEL_KZ\n",
    " - KK_KUNDENTYP\n"
   ]
  },
  {
   "cell_type": "code",
   "execution_count": null,
   "metadata": {},
   "outputs": [],
   "source": [
    "dataset_less_categorical = dataset_less[['ANREDE_KZ', 'CJT_GESAMTTYP', 'FINANZTYP', 'GFK_URLAUBERTYP', 'GREEN_AVANTGARDE', 'LP_FAMILIE_FEIN', 'LP_FAMILIE_GROB', 'LP_STATUS_FEIN', 'LP_STATUS_GROB', 'NATIONALITAET_KZ', 'SHOPPER_TYP', 'SOHO_KZ', 'VERS_TYP', 'ZABEOTYP', 'OST_WEST_KZ', 'CAMEO_DEUG_2015', 'CAMEO_DEU_2015']]\n",
    "\n",
    "dataset_less_categorical.head(5)"
   ]
  },
  {
   "cell_type": "code",
   "execution_count": null,
   "metadata": {},
   "outputs": [],
   "source": [
    "dataset_less_categorical.info()"
   ]
  },
  {
   "cell_type": "markdown",
   "metadata": {},
   "source": [
    "It looks like all the categorical columns are binary except:\n",
    "\n",
    " - OST_WEST_KZ (Building location via former East / West Germany (GDR / FRG))\n",
    " - CAMEO_DEUG_2015 (German CAMEO: Wealth / Life Stage Typology, rough scale)\n",
    " - CAMEO_DEU_2015 (German CAMEO: Wealth / Life Stage Typology, detailed scale)\n",
    " \n",
    " I will not need any of these columns in my set for my purposes.  These are neighborhood level attributes.  Focusing on person-level or household-level will be more meaningful.  Instead of re-encoding columns that I will not use I have decided to drop them from my analysis.\n",
    "\n",
    "\n"
   ]
  },
  {
   "cell_type": "code",
   "execution_count": null,
   "metadata": {},
   "outputs": [],
   "source": [
    "# Removing categorical variable(s) to be dropped from the analysis.\n",
    "\n",
    "dataset_less = dataset_less.drop(columns=['OST_WEST_KZ', 'CAMEO_DEUG_2015', 'CAMEO_DEU_2015'])"
   ]
  },
  {
   "cell_type": "code",
   "execution_count": null,
   "metadata": {},
   "outputs": [],
   "source": [
    "dataset_less.info()"
   ]
  },
  {
   "cell_type": "markdown",
   "metadata": {},
   "source": [
    "I have successfully dropped the three unnecessary categorical columns and now have 76 columns in my new dataset."
   ]
  },
  {
   "cell_type": "code",
   "execution_count": null,
   "metadata": {},
   "outputs": [],
   "source": [
    "# Removing additional variable(s) to be dropped from the analysis.\n",
    "\n",
    "dataset_less = dataset_less.drop(columns=['CAMEO_INTL_2015'])\n"
   ]
  },
  {
   "cell_type": "code",
   "execution_count": null,
   "metadata": {},
   "outputs": [],
   "source": [
    "dataset_less.info()"
   ]
  },
  {
   "cell_type": "markdown",
   "metadata": {},
   "source": [
    "#### Discussion 1.2.1: Re-Encode Categorical Features\n",
    "\n",
    "All of my remaining columns in my \"dataset_less\" are binary except:\n",
    "\n",
    " - CAMEO_INTL_2015\n",
    " \n",
    "I decided I will not need this in my set for my purposes. I have other columns that give this same information. Instead of re-encoding columns that I will not use, I have dropped these column from my analysis.  I now have 75 columns in my dataset."
   ]
  },
  {
   "cell_type": "markdown",
   "metadata": {},
   "source": [
    "#### Step 1.2.2: Engineer Mixed-Type Features\n",
    "\n",
    "There are a handful of features that are marked as \"mixed\" in the feature summary that require special treatment in order to be included in the analysis. There are two in particular that deserve attention; the handling of the rest are up to your own choices:\n",
    "- \"PRAEGENDE_JUGENDJAHRE\" combines information on three dimensions: generation by decade, movement (mainstream vs. avantgarde), and nation (east vs. west). While there aren't enough levels to disentangle east from west, you should create two new variables to capture the other two dimensions: an interval-type variable for decade, and a binary variable for movement.\n",
    "- \"CAMEO_INTL_2015\" combines information on two axes: wealth and life stage. Break up the two-digit codes by their 'tens'-place and 'ones'-place digits into two new ordinal variables (which, for the purposes of this project, is equivalent to just treating them as their raw numeric values).\n",
    "- If you decide to keep or engineer new features around the other mixed-type features, make sure you note your steps in the Discussion section.\n",
    "\n",
    "Be sure to check `Data_Dictionary.md` for the details needed to finish these tasks."
   ]
  },
  {
   "cell_type": "code",
   "execution_count": null,
   "metadata": {},
   "outputs": [],
   "source": [
    "# Investigate \"PRAEGENDE_JUGENDJAHRE\" and engineer two new variables.\n",
    "dataset_less_PRAEGENDE_JUGENDJAHRE = dataset_less[['PRAEGENDE_JUGENDJAHRE']]\n",
    "\n",
    "dataset_less_PRAEGENDE_JUGENDJAHRE.head(5)\n"
   ]
  },
  {
   "cell_type": "code",
   "execution_count": null,
   "metadata": {
    "scrolled": true
   },
   "outputs": [],
   "source": [
    "#engineer new variable: Decade\n",
    "# modified code found here https://stackoverflow.com/questions/47372274/apply-custom-function-over-multiple-columns-in-pandas\n",
    "\n",
    "def DECADE(x):\n",
    "    if x == 1:\n",
    "        return 40\n",
    "    elif x == 2:\n",
    "        return 40\n",
    "    elif x == 3:\n",
    "        return 50\n",
    "    elif x == 4:\n",
    "        return 50\n",
    "    elif x == 5:\n",
    "        return 60\n",
    "    elif x == 6:\n",
    "        return 60\n",
    "    elif x == 7:\n",
    "        return 60\n",
    "    elif x == 8:\n",
    "        return 70\n",
    "    elif x == 9:\n",
    "        return 70\n",
    "    elif x == 10:\n",
    "        return 80\n",
    "    elif x == 11:\n",
    "        return 80\n",
    "    elif x == 12:\n",
    "        return 80\n",
    "    elif x == 13:\n",
    "        return 80\n",
    "    elif x == 14:\n",
    "        return 90\n",
    "    elif x == 15:\n",
    "        return 90\n",
    "\n",
    "dataset_less['PRAEGENDE_JUGENDJAHRE_DECADE'] = dataset_less['PRAEGENDE_JUGENDJAHRE'].apply(DECADE)\n",
    "\n",
    "dataset_less.head()\n",
    "        "
   ]
  },
  {
   "cell_type": "code",
   "execution_count": null,
   "metadata": {},
   "outputs": [],
   "source": [
    "#engineer new variable: movement\n",
    "\n",
    "def MOVEMENT(x):\n",
    "    if x == 1:\n",
    "        return 0\n",
    "    elif x == 2:\n",
    "        return 1\n",
    "    elif x == 3:\n",
    "        return 0\n",
    "    elif x == 4:\n",
    "        return 1\n",
    "    elif x == 5:\n",
    "        return 0\n",
    "    elif x == 6:\n",
    "        return 1\n",
    "    elif x == 7:\n",
    "        return 1\n",
    "    elif x == 8:\n",
    "        return 0\n",
    "    elif x == 9:\n",
    "        return 1\n",
    "    elif x == 10:\n",
    "        return 0\n",
    "    elif x == 11:\n",
    "        return 1\n",
    "    elif x == 12:\n",
    "        return 0\n",
    "    elif x == 13:\n",
    "        return 1\n",
    "    elif x == 14:\n",
    "        return 0\n",
    "    elif x == 15:\n",
    "        return 1\n",
    "   \n",
    "\n",
    "dataset_less['PRAEGENDE_JUGENDJAHRE_MOVEMENT'] = dataset_less['PRAEGENDE_JUGENDJAHRE'].apply(MOVEMENT)\n",
    "\n",
    "dataset_less.head()"
   ]
  },
  {
   "cell_type": "markdown",
   "metadata": {},
   "source": [
    "Let's take a look at just our original column and two new ones side by side."
   ]
  },
  {
   "cell_type": "code",
   "execution_count": null,
   "metadata": {},
   "outputs": [],
   "source": [
    "dataset_less_New_Columns = dataset_less[['PRAEGENDE_JUGENDJAHRE', 'PRAEGENDE_JUGENDJAHRE_DECADE', 'PRAEGENDE_JUGENDJAHRE_MOVEMENT']]\n",
    "\n",
    "dataset_less_New_Columns.head(25)"
   ]
  },
  {
   "cell_type": "markdown",
   "metadata": {},
   "source": [
    "# Investigate \"CAMEO_INTL_2015\" and engineer two new variables.\n",
    "\n",
    "CAMEO_INTL_2015 has been removed from my dataset as the information was redundant. I can get the same information from other columns, such as:\n",
    "\n",
    "- LP_FAMILIE_FEIN (Family type, fine scale)"
   ]
  },
  {
   "cell_type": "markdown",
   "metadata": {},
   "source": [
    "#### Discussion 1.2.2: Engineer Mixed-Type Features\n",
    "\n",
    "Honestly, I could have dropped both columns as neither are pertinent to my analysis.  There are many other columns of data that I would use over these two.\n",
    "\n",
    "However, for this project I kept the 'PRAEGENDE_JUGENDJAHRE' column and created two new columns from it's data.  One representing the decade and the other the movement.\n",
    "\n",
    "I dropped CAMEO_INTL_2015 from my dataset as the information is redundant. I can get this same information from other columns such as:\n",
    "\n",
    " - HH_EINKOMMEN_SCORE (Estimated household net income)\n",
    " - LP_FAMILIE_FEIN (Family type, fine scale)"
   ]
  },
  {
   "cell_type": "markdown",
   "metadata": {},
   "source": [
    "#### Step 1.2.3: Complete Feature Selection\n",
    "\n",
    "In order to finish this step up, you need to make sure that your data frame now only has the columns that you want to keep. To summarize, the dataframe should consist of the following:\n",
    "- All numeric, interval, and ordinal type columns from the original dataset.\n",
    "- Binary categorical features (all numerically-encoded).\n",
    "- Engineered features from other multi-level categorical features and mixed features.\n",
    "\n",
    "Make sure that for any new columns that you have engineered, that you've excluded the original columns from the final dataset. Otherwise, their values will interfere with the analysis later on the project. For example, you should not keep \"PRAEGENDE_JUGENDJAHRE\", since its values won't be useful for the algorithm: only the values derived from it in the engineered features you created should be retained. As a reminder, your data should only be from **the subset with few or no missing values**."
   ]
  },
  {
   "cell_type": "markdown",
   "metadata": {},
   "source": [
    "I feel as I have too many columns in my dataset for my purposes.  I need to scale down to what is necessary for my analysis.  I am trying to identify those who are most likely to purchase the products for a mailing campaign.  I have so much data here, but I need to focus on what is truly helpful.\n",
    "\n",
    "I am going to keep:\n",
    "\n",
    " - ALTERSKATEGORIE_GROB (Estimated age based on given name analysis): knowing the age range is important.\n",
    " - ANREDE_KZ (Gender): this will be important if they want to target specific genders for specific products.\n",
    " - CJT_GESAMTTYP (Customer-Journey-Typology: preferred information and buying channels for consumer): this column is very important as it details how they like to shop.\n",
    " - FINANZ_MINIMALIST: the following \"FINANZ\" columns are important as they combine to help understand what kind of spender/saver the individual is.\n",
    " - FINANZ_SPARER \n",
    " - FINANZ_VORSORGER              \n",
    " - FINANZ_ANLEGER                \n",
    " - FINANZ_UNAUFFAELLIGER         \n",
    " - FINANZ_HAUSBAUER              \n",
    " - FINANZTYP  \n",
    " - GFK_URLAUBERTYP (Vacacation habits): this will be helpful for certain mailings.\n",
    " - LP_LEBENSPHASE_FEIN (Life stage, fine scale): very important column, data includes income level and age level details.\n",
    " - LP_FAMILIE_FEIN (Family type, fine scale): this is a very nice quick glance type column of the family type. Nice for the ability to target families with kids, or specifically teenagers.\n",
    " - RETOURTYP_BK_S (Return type): this column describes their return habits.\n",
    " - All \"SEMIO_\" columns: these columns describe their personality typologies.  All very important.\n",
    " - ZABEOTYP (Energy consumption typology): will be important for certain targeted mailings.\n",
    " - ANZ_PERSONEN (Number of adults in household): important column!  More adults in the house means more shoppers.\n",
    " - HH_EINKOMMEN_SCORE (Estimated household net income): very important column.\n",
    " - WOHNDAUER_2008 (Length of residence): longer a consumer has stayed in their house the more likely they have higher credit.\n",
    " - GEBAEUDETYP (Type of building (residential vs. commercial)): this is the only building level data I am keeping.  This is helpful to know when targeting residential vs commerical buildings.\n",
    " - BALLRAUM (Distance to nearest urban center): how far are they from shopping abilities.\n",
    " - INNENSTADT (Distance to city center (downtown)): imporatant info.\n",
    " \n",
    " \n",
    "I am going to drop:\n",
    " - ANZ_TITEL (Number of professional academic title holders in household): irrelevant information to mailers.\n",
    " - SOHO_KZ (Small office / home office flag): not very helpful information\n",
    " - SHOPPER_TYP: (Shopper typology): not very helpful with the values listed.\n",
    " - GREEN_AVANTGARDE (Membership in environmental sustainability as part of youth): not very helpful      \n",
    " - HEALTH_TYP (Health typology): it's not a very informative column.\n",
    " - LP_LEBENSPHASE_GROB (Life stage, rough scale): it's redundant, a summary of the \"LP_LEBENSPHASE_FEIN\" column I am keeping.\n",
    " - LP_FAMILIE_GROB (Family type, rough scale): redundant.\n",
    " - LP_STATUS_FEIN (Social status, fine scale): other columns more helpful.\n",
    " - LP_STATUS_GROB (Social status, rough scale): redundant.\n",
    " - NATIONALITAET_KZ (Nationality based on given name analysis): this is assumptive, not factual.\n",
    " - PRAEGENDE_JUGENDJAHRE (Dominating movement of person's youth): this column has been broken down and no longer needed.\n",
    " - VERS_TYP (Insurance Type): not very helpful for analysis.\n",
    " - W_KEIT_KIND_HH (Likelihood of children in household): redundant.\n",
    " - Building Level data: ANZ_HAUSHALTE_AKTIV, KONSUMNAEHE, MIN_GEBAEUDEJAHR, WOHNLAGE: not necessary data as I already have individual data that I will focus on.\n",
    " - KBA05_ANTG1, KBA05_ANTG2, KBA05_ANTG3, KBA05_ANTG4: not helpful info. \n",
    " - PLZ8_ANTG1, PLZ8_ANTG2, PLZ8_ANTG3, PLZ8_ANTG4, PLZ8_BAUMAX: not helpful info.              ,                  \n",
    " - KBA05_GBZ (Number of buildings in the microcell): not helpful info.\n",
    " - EWDICHTE (Density of households per square kilometer): redundant.\n",
    " - Region features: GEBAEUDETYP_RASTER, KKK, MOBI_REGIO, ONLINE_AFFINITAET, REGIOTYP, KBA13_ANZAHL_PKW, PLZ8_HHZ, PLZ8_GBZ, ARBEIT, ORTSGR_KLS9, RELAT_AB: these columns are either redundant or do not hold very helpful data.\n",
    " "
   ]
  },
  {
   "cell_type": "code",
   "execution_count": null,
   "metadata": {},
   "outputs": [],
   "source": [
    "# If there are other re-engineering tasks you need to perform, make sure you\n",
    "# take care of them here. (Dealing with missing data will come in step 2.1.)\n",
    "dataset_less = dataset_less.drop(columns=['ANZ_TITEL', 'SOHO_KZ', 'SHOPPER_TYP', 'GREEN_AVANTGARDE', 'HEALTH_TYP', 'LP_LEBENSPHASE_GROB', 'LP_FAMILIE_GROB', 'LP_STATUS_FEIN', 'LP_STATUS_GROB', 'NATIONALITAET_KZ', 'VERS_TYP', 'W_KEIT_KIND_HH', 'PRAEGENDE_JUGENDJAHRE', 'ANZ_HAUSHALTE_AKTIV', 'KONSUMNAEHE', 'MIN_GEBAEUDEJAHR', 'WOHNLAGE', 'KBA05_ANTG1', 'KBA05_ANTG2', 'KBA05_ANTG3', 'KBA05_ANTG4', 'PLZ8_ANTG1', 'PLZ8_ANTG2', 'PLZ8_ANTG3', 'PLZ8_ANTG4', 'PLZ8_BAUMAX', 'KBA05_GBZ', 'EWDICHTE', 'GEBAEUDETYP_RASTER', 'KKK', 'MOBI_REGIO', 'ONLINE_AFFINITAET', 'REGIOTYP', 'KBA13_ANZAHL_PKW', 'PLZ8_HHZ', 'PLZ8_GBZ', 'ARBEIT', 'ORTSGR_KLS9', 'RELAT_AB'])\n",
    "\n",
    "dataset_less.info()\n"
   ]
  },
  {
   "cell_type": "markdown",
   "metadata": {},
   "source": [
    "I am going to also remove the two columns I created as the information in both is either redundant (decade they were born in) or unneccesary (movement).  These two columns were essential to the project, but not to my analysis."
   ]
  },
  {
   "cell_type": "code",
   "execution_count": null,
   "metadata": {},
   "outputs": [],
   "source": [
    "dataset_less = dataset_less.drop(columns=['PRAEGENDE_JUGENDJAHRE_DECADE', 'PRAEGENDE_JUGENDJAHRE_MOVEMENT'])\n",
    "\n",
    "dataset_less.info()\n"
   ]
  },
  {
   "cell_type": "markdown",
   "metadata": {},
   "source": [
    "There are now 36 columns in my dataset I will be using for the rest of the project.  "
   ]
  },
  {
   "cell_type": "markdown",
   "metadata": {},
   "source": [
    "### Step 1.3: Create a Cleaning Function\n",
    "\n",
    "Even though you've finished cleaning up the general population demographics data, it's important to look ahead to the future and realize that you'll need to perform the same cleaning steps on the customer demographics data. In this substep, complete the function below to execute the main feature selection, encoding, and re-engineering steps you performed above. Then, when it comes to looking at the customer data in Step 3, you can just run this function on that DataFrame to get the trimmed dataset in a single step."
   ]
  },
  {
   "cell_type": "markdown",
   "metadata": {},
   "source": [
    "<b>Please Note: </b> I have tried so hard to get this function to run without crashing and I cannot.  This is my cleaning function.  However when I seperate them all out, each works in seconds.  \n",
    "    "
   ]
  },
  {
   "cell_type": "code",
   "execution_count": null,
   "metadata": {},
   "outputs": [],
   "source": [
    "def clean_data1(df):\n",
    "\n",
    "    #Remove all NaN values\n",
    "    for attribute, miss_index in zip(df_feature_summary['attribute'], df_feature_summary['missing_or_unknown']):\n",
    "        missing_values = miss_index.strip('[]').split(',')\n",
    "        missing_values = [int(value) if (value!='X' and value!='XX' and value!='') else value for value in missing_values]\n",
    "        \n",
    "        if missing_values != ['']:\n",
    "            df[attribute] = df[attribute].replace(missing_values, np.nan)\n",
    "            \n",
    "    print('Total number of missing values after conversion is {}'.format(df.isnull().sum().sum()))\n",
    "            \n",
    "    #drop first set of columns - 2nd step        \n",
    "    df=df.drop(columns=['AGER_TYP', 'GEBURTSJAHR', 'ANZ_HH_TITEL', 'TITEL_KZ', 'ALTER_HH', 'KK_KUNDENTYP', 'KBA05_BAUMAX'])\n",
    "    \n",
    "    print('Second step successful {}'.format(df.head(1)))\n",
    "\n",
    "    #find threshold - 3rd step\n",
    "    df['Missing_data_rows'] = df.isna().sum(axis=1)\n",
    "\n",
    "    threshold = 11\n",
    "\n",
    "    cust_dataset_less = df[df['Missing_data_rows'] <= threshold]\n",
    "    \n",
    "    print('Third step successful {}'.format(cust_dataset_less.head(1)))\n",
    "       \n",
    "    #drop next set of columns - 4th step\n",
    "    cust_dataset_less=cust_dataset_less.drop(columns=['GREEN_AVANTGARDE', 'LP_FAMILIE_GROB', 'LP_STATUS_GROB', 'NATIONALITAET_KZ', 'SHOPPER_TYP', 'SOHO_KZ', 'VERS_TYP', 'OST_WEST_KZ', 'CAMEO_DEUG_2015', 'CAMEO_DEU_2015', 'OST_WEST_KZ', 'CAMEO_DEUG_2015', 'CAMEO_DEU_2015', 'CAMEO_INTL_2015', 'ANZ_TITEL', 'SOHO_KZ', 'SHOPPER_TYP', 'GREEN_AVANTGARDE', 'HEALTH_TYP', 'LP_LEBENSPHASE_GROB', 'LP_FAMILIE_GROB', 'LP_STATUS_FEIN', 'LP_STATUS_GROB', 'NATIONALITAET_KZ', 'VERS_TYP', 'W_KEIT_KIND_HH', 'PRAEGENDE_JUGENDJAHRE', 'ANZ_HAUSHALTE_AKTIV', 'KONSUMNAEHE', 'MIN_GEBAEUDEJAHR', 'WOHNLAGE', 'KBA05_ANTG1', 'KBA05_ANTG2', 'KBA05_ANTG3', 'KBA05_ANTG4', 'PLZ8_ANTG1', 'PLZ8_ANTG2', 'PLZ8_ANTG3', 'PLZ8_ANTG4', 'PLZ8_BAUMAX', 'KBA05_GBZ', 'EWDICHTE', 'GEBAEUDETYP_RASTER', 'KKK', 'MOBI_REGIO', 'ONLINE_AFFINITAET', 'REGIOTYP', 'KBA13_ANZAHL_PKW', 'PLZ8_HHZ', 'PLZ8_GBZ', 'ARBEIT', 'ORTSGR_KLS9', 'RELAT_AB'])\n",
    "   \n",
    "    print('FOURTH step successful {}'.format(cust_dataset_less.head(1)))\n",
    "    \n",
    "    #drop remaining null values - 5th step\n",
    "    cust_dataset_less=cust_dataset_less.dropna(inplace=True)\n",
    "    \n",
    "    print('Fifth step successful {}')\n",
    "    \n",
    "    return(cust_dataset_less) #Final step\n",
    "    print('FINAL STEP successful {}'.format(cust_dataset_less.head(1)))\n",
    "    "
   ]
  },
  {
   "cell_type": "code",
   "execution_count": null,
   "metadata": {},
   "outputs": [],
   "source": [
    "# Load in the customer demographics data. ### delete this  when works\n",
    "df_customer_dems = pd.read_csv('Udacity_CUSTOMERS_Subset.csv', sep=';')\n",
    "\n",
    "df_customer_dems.head()"
   ]
  },
  {
   "cell_type": "code",
   "execution_count": null,
   "metadata": {},
   "outputs": [],
   "source": [
    "clean_data1(df_customer_dems)"
   ]
  },
  {
   "cell_type": "code",
   "execution_count": null,
   "metadata": {},
   "outputs": [],
   "source": [
    "cust_dataset_less.info()"
   ]
  },
  {
   "cell_type": "code",
   "execution_count": null,
   "metadata": {},
   "outputs": [],
   "source": [
    "assert cust_dataset_less.shape[0] == dataset_less.shape[0], \"clean_data function is not working properly, rows mismatch\"\n",
    "assert cust_dataset_less.shape[1] == dataset_less.shape[1], \"clean_data function is not working properly, columns mismatch\"\n",
    "print(\"If this is all you see, you passed the tests\")"
   ]
  },
  {
   "cell_type": "markdown",
   "metadata": {},
   "source": [
    "Once this works, remove the below cells and don't forget to ensure final named dataset is relevant to steps in 3.2"
   ]
  },
  {
   "cell_type": "code",
   "execution_count": null,
   "metadata": {},
   "outputs": [],
   "source": [
    " #Remove all NaN values\n",
    "for attribute, miss_index in zip(df_feature_summary['attribute'], df_feature_summary['missing_or_unknown']):\n",
    "    missing_values = miss_index.strip('[]').split(',')\n",
    "    missing_values = [int(value) if (value!='X' and value!='XX' and value!='') else value for value in missing_values]\n",
    "        \n",
    "    if missing_values != ['']:\n",
    "        df_customer_dems[attribute] = df_customer_dems[attribute].replace(missing_values, np.nan)"
   ]
  },
  {
   "cell_type": "code",
   "execution_count": null,
   "metadata": {},
   "outputs": [],
   "source": [
    "#rename new dataset\n",
    "clean_cust_dems = cust_dataset_less\n",
    "\n",
    "#drop remaining null values\n",
    "clean_cust_dems.dropna(inplace=True)\n",
    "    \n"
   ]
  },
  {
   "cell_type": "code",
   "execution_count": null,
   "metadata": {},
   "outputs": [],
   "source": [
    "#drop first set of columns        \n",
    "df_customer_dems=df_customer_dems.drop(columns=['AGER_TYP', 'GEBURTSJAHR', 'ANZ_HH_TITEL', 'TITEL_KZ', 'ALTER_HH', 'KK_KUNDENTYP', 'KBA05_BAUMAX'])"
   ]
  },
  {
   "cell_type": "code",
   "execution_count": null,
   "metadata": {},
   "outputs": [],
   "source": [
    "#find threshold\n",
    "df_customer_dems['Missing_data_rows'] = df_customer_dems.isna().sum(axis=1)\n",
    "\n",
    "threshold = 11\n",
    "\n",
    "cust_dataset_less = df_customer_dems[df_customer_dems['Missing_data_rows'] <= threshold]\n"
   ]
  },
  {
   "cell_type": "code",
   "execution_count": null,
   "metadata": {},
   "outputs": [],
   "source": [
    "clean_cust_dems.info()"
   ]
  },
  {
   "cell_type": "markdown",
   "metadata": {},
   "source": [
    "## Step 2: Feature Transformation\n",
    "\n",
    "### Step 2.1: Apply Feature Scaling\n",
    "\n",
    "Before we apply dimensionality reduction techniques to the data, we need to perform feature scaling so that the principal component vectors are not influenced by the natural differences in scale for features. Starting from this part of the project, you'll want to keep an eye on the [API reference page for sklearn](http://scikit-learn.org/stable/modules/classes.html) to help you navigate to all of the classes and functions that you'll need. In this substep, you'll need to check the following:\n",
    "\n",
    "- sklearn requires that data not have missing values in order for its estimators to work properly. So, before applying the scaler to your data, make sure that you've cleaned the DataFrame of the remaining missing values. This can be as simple as just removing all data points with missing data, or applying an [Imputer](https://scikit-learn.org/0.16/modules/generated/sklearn.preprocessing.Imputer.html) to replace all missing values. You might also try a more complicated procedure where you temporarily remove missing values in order to compute the scaling parameters before re-introducing those missing values and applying imputation. Think about how much missing data you have and what possible effects each approach might have on your analysis, and justify your decision in the discussion section below.\n",
    "- For the actual scaling function, a [StandardScaler](http://scikit-learn.org/stable/modules/generated/sklearn.preprocessing.StandardScaler.html) instance is suggested, scaling each feature to mean 0 and standard deviation 1.\n",
    "- For these classes, you can make use of the `.fit_transform()` method to both fit a procedure to the data as well as apply the transformation to the data at the same time. Don't forget to keep the fit sklearn objects handy, since you'll be applying them to the customer demographics data towards the end of the project."
   ]
  },
  {
   "cell_type": "code",
   "execution_count": null,
   "metadata": {},
   "outputs": [],
   "source": [
    "# If you've not yet cleaned the dataset of all NaN values, then investigate and\n",
    "# do that now. I do not have a lot of missing data anymore, so I will drop any rows with missing data.\n",
    "#I am going to rename my general dataset\n",
    "clean_general_data = dataset_less\n",
    "\n",
    "clean_general_data.dropna(inplace=True)\n"
   ]
  },
  {
   "cell_type": "code",
   "execution_count": null,
   "metadata": {},
   "outputs": [],
   "source": [
    "clean_general_data.info()"
   ]
  },
  {
   "cell_type": "markdown",
   "metadata": {},
   "source": [
    "Removing all rows with any missing data brought me from 781,343 entries to 732,147.  It removed 49,196 rows, or 6.3% of my data.  I still have sufficient amount of data to work with that is now all clean and complete."
   ]
  },
  {
   "cell_type": "code",
   "execution_count": null,
   "metadata": {},
   "outputs": [],
   "source": [
    "# Apply feature scaling to the general population demographics data.\n",
    "\n",
    "from sklearn.preprocessing import StandardScaler\n",
    "\n",
    "data = clean_general_data\n",
    "\n",
    "scaler = StandardScaler()\n",
    "\n",
    "clean_general_data_scaled_array = scaler.fit_transform(data)\n",
    "\n",
    "clean_general_data_scaled = pd.DataFrame(clean_general_data_scaled_array, columns=data.columns)\n",
    "\n",
    "clean_general_data_scaled.head()"
   ]
  },
  {
   "cell_type": "markdown",
   "metadata": {},
   "source": [
    "### Discussion 2.1: Apply Feature Scaling\n",
    "\n",
    "As discussed above, I decided to remove any rows with missing values.  With this large of a dataset, removing the missing values seemed more efficient and I still have a lot of data to work with.  I used a StandardScaler as suggested."
   ]
  },
  {
   "cell_type": "markdown",
   "metadata": {},
   "source": [
    "### Step 2.2: Perform Dimensionality Reduction\n",
    "\n",
    "On your scaled data, you are now ready to apply dimensionality reduction techniques.\n",
    "\n",
    "- Use sklearn's [PCA](http://scikit-learn.org/stable/modules/generated/sklearn.decomposition.PCA.html) class to apply principal component analysis on the data, thus finding the vectors of maximal variance in the data. To start, you should not set any parameters (so all components are computed) or set a number of components that is at least half the number of features (so there's enough features to see the general trend in variability).\n",
    "- Check out the ratio of variance explained by each principal component as well as the cumulative variance explained. Try plotting the cumulative or sequential values using matplotlib's [`plot()`](https://matplotlib.org/api/_as_gen/matplotlib.pyplot.plot.html) function. Based on what you find, select a value for the number of transformed features you'll retain for the clustering part of the project.\n",
    "- Once you've made a choice for the number of components to keep, make sure you re-fit a PCA instance to perform the decided-on transformation."
   ]
  },
  {
   "cell_type": "code",
   "execution_count": null,
   "metadata": {},
   "outputs": [],
   "source": [
    "# Apply PCA to the data.\n",
    "from sklearn.decomposition import PCA\n",
    "\n",
    "pca = PCA()\n",
    "pca.fit(clean_general_data_scaled)\n",
    "\n",
    "cgds_pca = pca.transform(clean_general_data_scaled)\n"
   ]
  },
  {
   "cell_type": "code",
   "execution_count": null,
   "metadata": {},
   "outputs": [],
   "source": [
    "cgds_pca"
   ]
  },
  {
   "cell_type": "code",
   "execution_count": null,
   "metadata": {},
   "outputs": [],
   "source": [
    "# Investigate the variance accounted for by each principal component.\n",
    "\n",
    "def scree_plot(pca):\n",
    "    \n",
    "    num_components = len(pca.explained_variance_ratio_)\n",
    "    ind = np.arange(num_components)\n",
    "    vals = pca.explained_variance_ratio_\n",
    " \n",
    "    plt.figure(figsize=(10, 6))\n",
    "    ax = plt.subplot(111)\n",
    "    cumvals = np.cumsum(vals)\n",
    "    ax.bar(ind, vals)\n",
    "    ax.plot(ind, cumvals)\n",
    "    for i in range(num_components):\n",
    "        ax.annotate(r\"%s%%\" % ((str(vals[i]*100)[:4])), (ind[i]+0.2, vals[i]), va=\"bottom\", ha=\"center\", fontsize=12)\n",
    " \n",
    "    ax.xaxis.set_tick_params(width=0)\n",
    "    ax.yaxis.set_tick_params(width=2, length=12)\n",
    " \n",
    "    ax.set_xlabel(\"Principal Component\")\n",
    "    ax.set_ylabel(\"Variance Explained (%)\")\n",
    "    plt.title('Explained Variance Per Principal Component')\n",
    "    \n",
    "\n",
    "scree_plot(pca)"
   ]
  },
  {
   "cell_type": "code",
   "execution_count": null,
   "metadata": {},
   "outputs": [],
   "source": [
    "#drop next set of columns\n",
    "cust_dataset_less=cust_dataset_less.drop(columns=['GREEN_AVANTGARDE', 'LP_FAMILIE_GROB', 'LP_STATUS_GROB', 'NATIONALITAET_KZ', 'SHOPPER_TYP', 'SOHO_KZ', 'VERS_TYP', 'OST_WEST_KZ', 'CAMEO_DEUG_2015', 'CAMEO_DEU_2015', 'OST_WEST_KZ', 'CAMEO_DEUG_2015', 'CAMEO_DEU_2015', 'CAMEO_INTL_2015', 'ANZ_TITEL', 'SOHO_KZ', 'SHOPPER_TYP', 'GREEN_AVANTGARDE', 'HEALTH_TYP', 'LP_LEBENSPHASE_GROB', 'LP_FAMILIE_GROB', 'LP_STATUS_FEIN', 'LP_STATUS_GROB', 'NATIONALITAET_KZ', 'VERS_TYP', 'W_KEIT_KIND_HH', 'PRAEGENDE_JUGENDJAHRE', 'ANZ_HAUSHALTE_AKTIV', 'KONSUMNAEHE', 'MIN_GEBAEUDEJAHR', 'WOHNLAGE', 'KBA05_ANTG1', 'KBA05_ANTG2', 'KBA05_ANTG3', 'KBA05_ANTG4', 'PLZ8_ANTG1', 'PLZ8_ANTG2', 'PLZ8_ANTG3', 'PLZ8_ANTG4', 'PLZ8_BAUMAX', 'KBA05_GBZ', 'EWDICHTE', 'GEBAEUDETYP_RASTER', 'KKK', 'MOBI_REGIO', 'ONLINE_AFFINITAET', 'REGIOTYP', 'KBA13_ANZAHL_PKW', 'PLZ8_HHZ', 'PLZ8_GBZ', 'ARBEIT', 'ORTSGR_KLS9', 'RELAT_AB'])"
   ]
  },
  {
   "cell_type": "markdown",
   "metadata": {},
   "source": [
    "Based on the graph, I can see that at 5 components, over half of the variance of my data is explained.  I want a little bit more, so I will use 10 components, which will put me right about at 80% of variance explained. "
   ]
  },
  {
   "cell_type": "code",
   "execution_count": null,
   "metadata": {},
   "outputs": [],
   "source": [
    "# Re-apply PCA to the data while selecting for number of components to retain.\n",
    "\n",
    "pca = PCA(10)\n",
    "pca.fit(clean_general_data_scaled)\n",
    "\n",
    "cgds_pca = pca.transform(clean_general_data_scaled)\n",
    "\n",
    "cgds_pca"
   ]
  },
  {
   "cell_type": "code",
   "execution_count": null,
   "metadata": {},
   "outputs": [],
   "source": [
    "scree_plot(pca)"
   ]
  },
  {
   "cell_type": "markdown",
   "metadata": {},
   "source": [
    "### Discussion 2.2: Perform Dimensionality Reduction\n",
    "\n",
    "I am going to retain 10 principal components for the next step of analysis.  These 10 components make up roughly 80% of total amount of variability in my data.\n"
   ]
  },
  {
   "cell_type": "markdown",
   "metadata": {},
   "source": [
    "### Step 2.3: Interpret Principal Components\n",
    "\n",
    "Now that we have our transformed principal components, it's a nice idea to check out the weight of each variable on the first few components to see if they can be interpreted in some fashion.\n",
    "\n",
    "As a reminder, each principal component is a unit vector that points in the direction of highest variance (after accounting for the variance captured by earlier principal components). The further a weight is from zero, the more the principal component is in the direction of the corresponding feature. If two features have large weights of the same sign (both positive or both negative), then increases in one tend expect to be associated with increases in the other. To contrast, features with different signs can be expected to show a negative correlation: increases in one variable should result in a decrease in the other.\n",
    "\n",
    "- To investigate the features, you should map each weight to their corresponding feature name, then sort the features according to weight. The most interesting features for each principal component, then, will be those at the beginning and end of the sorted list. Use the data dictionary document to help you understand these most prominent features, their relationships, and what a positive or negative value on the principal component might indicate.\n",
    "- You should investigate and interpret feature associations from the first three principal components in this substep. To help facilitate this, you should write a function that you can call at any time to print the sorted list of feature weights, for the *i*-th principal component. This might come in handy in the next step of the project, when you interpret the tendencies of the discovered clusters."
   ]
  },
  {
   "cell_type": "code",
   "execution_count": null,
   "metadata": {},
   "outputs": [],
   "source": [
    "# Map weights for the first principal component to corresponding feature names\n",
    "# and then print the linked values, sorted by weight.\n",
    "# HINT: Try defining a function here or in a new cell that you can reuse in the\n",
    "# other cells.\n",
    "\n",
    "#function code help from various sources: https://www.google.com/search?q=+Map+weights+for+the+first+principal+component+to+corresponding+feature+names+in+pandas&sca_esv=bf172ea85903387e&source=hp&ei=bgIxZ6WBEejJp84P7I-GkQE&iflsig=AL9hbdgAAAAAZzEQfszCUJ8RdjgWDwPPg8CDAewx42Z7&ved=0ahUKEwil8NyaudKJAxXo5MkDHeyHIRIQ4dUDCBg&uact=5&oq=+Map+weights+for+the+first+principal+component+to+corresponding+feature+names+in+pandas&gs_lp=Egdnd3Mtd2l6IlcgTWFwIHdlaWdodHMgZm9yIHRoZSBmaXJzdCBwcmluY2lwYWwgY29tcG9uZW50IHRvIGNvcnJlc3BvbmRpbmcgZmVhdHVyZSBuYW1lcyBpbiBwYW5kYXMyEBAAGAMY5QIY6gIYjAMYjwEyEBAAGAMY5QIY6gIYjAMYjwEyEBAAGAMY5QIY6gIYjAMYjwEyEBAAGAMY5QIY6gIYjAMYjwEyEBAuGAMY5QIY6gIYjAMYjwEyEBAAGAMY5QIY6gIYjAMYjwEyEBAAGAMY5QIY6gIYjAMYjwEyEBAAGAMY5QIY6gIYjAMYjwEyEBAAGAMY5QIY6gIYjAMYjwEyEBAAGAMY5QIY6gIYjAMYjwFIiR5QxwNY9BxwAXgAkAEAmAEAoAEAqgEAuAEDyAEA-AEC-AEBmAIBoAIDqAIKmAMDkgcBMaAHAA&sclient=gws-wiz and https://stackoverflow.com/questions/49993837/plotting-feature-weight-for-pca-analysis\n",
    "def weights_to_principal_component(pca, component):\n",
    "    \n",
    "    weights = pca.components_[component]\n",
    "    \n",
    "    weights_df = pd.DataFrame({'Component': clean_general_data_scaled.columns, 'Weight':weights})   \n",
    "    \n",
    "    sorted_weights = weights_df.sort_values(by='Weight', ascending=False)\n",
    "    \n",
    "    return sorted_weights"
   ]
  },
  {
   "cell_type": "code",
   "execution_count": null,
   "metadata": {},
   "outputs": [],
   "source": [
    "weights_to_principal_component(pca, 0)"
   ]
  },
  {
   "cell_type": "code",
   "execution_count": null,
   "metadata": {},
   "outputs": [],
   "source": [
    "# Map weights for the second principal component to corresponding feature names\n",
    "# and then print the linked values, sorted by weight.\n",
    "\n",
    "weights_to_principal_component(pca, 1)"
   ]
  },
  {
   "cell_type": "code",
   "execution_count": null,
   "metadata": {},
   "outputs": [],
   "source": [
    "# Map weights for the third principal component to corresponding feature names\n",
    "# and then print the linked values, sorted by weight.\n",
    "\n",
    "weights_to_principal_component(pca, 2)"
   ]
  },
  {
   "cell_type": "markdown",
   "metadata": {},
   "source": [
    "### Discussion 2.3: Interpret Principal Components\n",
    "\n",
    "This part was tricky for me to figure out the function.  Once defined and ran, the outcomes are definitely intriguing.  I took the first two and last two features of each of the first 3 principal component mapping and here is what I found:\n",
    "\n",
    " - A definite relationship exists in the highest and lowest weights on these components.\n",
    "   - Religous Affinitiy and Estimated Age: I would find a definite association between these.  I would think the older one was the higher their affinity with a religion as they are seeking answers reflecting on life.  Or the opposite could also be true, as one is younger but entering their adult life, they may tend to be more regligous, trying to find answers.\n",
    "   - Money Saver and Be Prepared: There is a definite assocation between these two.  I would think the higher the affinity towards being a money saver, the higher the affinity towards being prepared.\n",
    "   - Dreamful and Gender: I would like to see this association.  Is one gender more or less dreamful when it comes to life?\n",
    "   - Socially Minded and Combative Attitude:  I would think there is a definite association there.  I would think the higher the affinity towards being socially minded, the less an affinity towards a combative attitude!\n",
    "   - Life Stage and Household Net Income: Yes, for the most part there would be an assocation there.  I would assume the later in life stage one is the higher their household net income would be.  Probably not always true, but I would say statistically this would be true.\n",
    "   - Family Type and Homeownership: The association between these two would probably exist.  I would expect to see higher rates of homeownership in married with or without children households.\n",
    "\n"
   ]
  },
  {
   "cell_type": "markdown",
   "metadata": {},
   "source": [
    "## Step 3: Clustering\n",
    "\n",
    "### Step 3.1: Apply Clustering to General Population\n",
    "\n",
    "You've assessed and cleaned the demographics data, then scaled and transformed them. Now, it's time to see how the data clusters in the principal components space. In this substep, you will apply k-means clustering to the dataset and use the average within-cluster distances from each point to their assigned cluster's centroid to decide on a number of clusters to keep.\n",
    "\n",
    "- Use sklearn's [KMeans](http://scikit-learn.org/stable/modules/generated/sklearn.cluster.KMeans.html#sklearn.cluster.KMeans) class to perform k-means clustering on the PCA-transformed data.\n",
    "- Then, compute the average difference from each point to its assigned cluster's center. **Hint**: The KMeans object's `.score()` method might be useful here, but note that in sklearn, scores tend to be defined so that larger is better. Try applying it to a small, toy dataset, or use an internet search to help your understanding.\n",
    "- Perform the above two steps for a number of different cluster counts. You can then see how the average distance decreases with an increasing number of clusters. However, each additional cluster provides a smaller net benefit. Use this fact to select a final number of clusters in which to group the data. **Warning**: because of the large size of the dataset, it can take a long time for the algorithm to resolve. The more clusters to fit, the longer the algorithm will take. You should test for cluster counts through at least 10 clusters to get the full picture, but you shouldn't need to test for a number of clusters above about 30.\n",
    "- Once you've selected a final number of clusters to use, re-fit a KMeans instance to perform the clustering operation. Make sure that you also obtain the cluster assignments for the general demographics data, since you'll be using them in the final Step 3.3."
   ]
  },
  {
   "cell_type": "markdown",
   "metadata": {},
   "source": [
    "Trying to test for a number of different cluster counts was not working.  The workspace kept crashing or the kernal would die.  I tried using MiniBatchKMeans as well as a smaller set and it would still not work.  I decided to just use the Elbow Method to find the best k value."
   ]
  },
  {
   "cell_type": "code",
   "execution_count": null,
   "metadata": {},
   "outputs": [],
   "source": [
    "# Investigate the change in within-cluster distance across number of clusters.\n",
    "# HINT: Use matplotlib's plot function to visualize this relationship.\n",
    "\n",
    "from sklearn.cluster import MiniBatchKMeans, KMeans\n",
    "from sklearn.datasets import make_blobs\n",
    "\n",
    "\n",
    "#modified code found here: https://www.google.com/search?q=how+to+use+elbow+method+in+pandas+to+find+kmeans+in+a+large+dataset&sca_esv=6ce0cdcc7f2b4c2a&ei=8xcxZ6rsEKbHp84P5_jHgAY&ved=0ahUKEwjqsc_dzdKJAxWm48kDHWf8EWAQ4dUDCBA&uact=5&oq=how+to+use+elbow+method+in+pandas+to+find+kmeans+in+a+large+dataset&gs_lp=Egxnd3Mtd2l6LXNlcnAiQ2hvdyB0byB1c2UgZWxib3cgbWV0aG9kIGluIHBhbmRhcyB0byBmaW5kIGttZWFucyBpbiBhIGxhcmdlIGRhdGFzZXRI5xxQ9ghYkRtwAXgBkAEAmAGTAaABshCqAQQ1LjE0uAEDyAEA-AEBmAINoAK-C8ICChAAGLADGNYEGEfCAgUQIRigAcICBRAhGKsCwgIFECEYnwWYAwCIBgGQBgiSBwQxLjEyoAfFTw&sclient=gws-wiz-serp\n",
    "WCSS = []\n",
    "for k in range(1, 11):\n",
    "    kmeans = MiniBatchKMeans(n_clusters=k, random_state=42)\n",
    "    kmeans.fit(cgds_pca)\n",
    "    WCSS.append(kmeans.inertia_)\n",
    "    \n",
    "plt.plot(range(1, 11), WCSS, marker='o')\n",
    "plt.title('Elbow Graph')\n",
    "plt.xlabel('Number of Clusters')\n",
    "plt.ylabel('WCSS')\n",
    "plt.show()"
   ]
  },
  {
   "cell_type": "markdown",
   "metadata": {},
   "source": [
    "Based on the Elbow Method, I will be using 4 clusters."
   ]
  },
  {
   "cell_type": "code",
   "execution_count": null,
   "metadata": {},
   "outputs": [],
   "source": [
    " # compute the average within-cluster distances.\n",
    "    \n",
    "scores = []\n",
    "for center in range(1,11):\n",
    "    kmeans = MiniBatchKMeans(center)\n",
    "    \n",
    "    model = kmeans.fit(cgds_pca)\n",
    "    scores.append(model.score(cgds_pca))\n",
    "    \n",
    "centers = list(range(1,11))\n",
    "plt.plot(centers, scores)\n",
    "plt.title('Scree Plot')\n",
    "plt.xlabel('Centers')\n",
    "plt.ylabel('Average Distance From Centroid')"
   ]
  },
  {
   "cell_type": "code",
   "execution_count": null,
   "metadata": {},
   "outputs": [],
   "source": [
    "# Re-fit the k-means model with the selected number of clusters and obtain \n",
    "# cluster predictions for the general population demographics data.\n",
    "kmeans = MiniBatchKMeans(n_clusters=4)\n",
    "kmeans.fit(cgds_pca)\n",
    "y_gen_kmeans = kmeans.predict(cgds_pca)\n",
    "\n",
    "\n",
    "#modified code found here: https://medium.com/analytics-vidhya/clustering-analysis-of-mall-customer-bd785577f1b0\n",
    "plt.scatter(cgds_pca[y_gen_kmeans == 0, 0], cgds_pca[y_gen_kmeans == 0, 1], s = 100, c = 'pink', label = '0')\n",
    "plt.scatter(cgds_pca[y_gen_kmeans == 1, 0], cgds_pca[y_gen_kmeans == 1, 1], s = 100, c = 'yellow', label = '1')\n",
    "plt.scatter(cgds_pca[y_gen_kmeans == 2, 0], cgds_pca[y_gen_kmeans == 2, 1], s = 100, c = 'cyan', label = '2')\n",
    "plt.scatter(cgds_pca[y_gen_kmeans == 3, 0], cgds_pca[y_gen_kmeans == 3, 1], s = 100, c = 'magenta', label = '3')\n",
    "\n",
    "centers = kmeans.cluster_centers_\n",
    "plt.scatter(centers[:,0], centers[:, 1], s = 50, c = 'black' , label = 'centeroid')\n",
    "\n",
    "plt.style.use('fivethirtyeight')\n",
    "plt.title('K Means Clustering - General Population Data', fontsize = 20)\n",
    "\n",
    "plt.legend()\n",
    "plt.grid()\n",
    "plt.show()"
   ]
  },
  {
   "cell_type": "markdown",
   "metadata": {},
   "source": [
    "### Discussion 3.1: Apply Clustering to General Population\n",
    "\n",
    "\n",
    "This was a bit of a frusterating step.  Trying different cluster sizes would not work for me, even with using a sample size of my data as well as using MiniBatchKMeans.  Simply using the Elbow Method worked to find the ideal number of clusters."
   ]
  },
  {
   "cell_type": "markdown",
   "metadata": {},
   "source": [
    "### Step 3.2: Apply All Steps to the Customer Data\n",
    "\n",
    "Now that you have clusters and cluster centers for the general population, it's time to see how the customer data maps on to those clusters. Take care to not confuse this for re-fitting all of the models to the customer data. Instead, you're going to use the fits from the general population to clean, transform, and cluster the customer data. In the last step of the project, you will interpret how the general population fits apply to the customer data.\n",
    "\n",
    "- Don't forget when loading in the customers data, that it is semicolon (`;`) delimited.\n",
    "- Apply the same feature wrangling, selection, and engineering steps to the customer demographics using the `clean_data()` function you created earlier. (You can assume that the customer demographics data has similar meaning behind missing data patterns as the general demographics data.)\n",
    "- Use the sklearn objects from the general demographics data, and apply their transformations to the customers data. That is, you should not be using a `.fit()` or `.fit_transform()` method to re-fit the old objects, nor should you be creating new sklearn objects! Carry the data through the feature scaling, PCA, and clustering steps, obtaining cluster assignments for all of the data in the customer demographics data."
   ]
  },
  {
   "cell_type": "markdown",
   "metadata": {},
   "source": [
    "Once I get my cleaning function to work in section above, I will load customer data here\n",
    "\n",
    "# Load in the customer demographics data. ### delete this  when works\n",
    "df_customer_dems = pd.read_csv('Udacity_CUSTOMERS_Subset.csv', sep=';')\n",
    "\n",
    "df_customer_dems.head()"
   ]
  },
  {
   "cell_type": "markdown",
   "metadata": {},
   "source": [
    "Once I get my cleaning function to work in the section above, I will call upon it here:\n",
    "\n",
    "clean_data1(df_customer_dems)"
   ]
  },
  {
   "cell_type": "code",
   "execution_count": null,
   "metadata": {},
   "outputs": [],
   "source": [
    "#Feature Scaling on customer demographics data \n",
    "\n",
    "\n",
    "\n",
    "\n",
    "new_customer_dems_scaled_array = scaler.transform(clean_cust_dems)\n",
    "\n",
    "new_customer_dems_scaled = pd.DataFrame(new_customer_dems_scaled_array, columns=data.columns)\n",
    "\n",
    "new_customer_dems_scaled.head()\n",
    "\n"
   ]
  },
  {
   "cell_type": "code",
   "execution_count": null,
   "metadata": {},
   "outputs": [],
   "source": [
    "#PCA Steps on customer demographics data \n",
    "\n",
    "\n",
    "ncds_pca = pca.transform(new_customer_dems_scaled)"
   ]
  },
  {
   "cell_type": "code",
   "execution_count": null,
   "metadata": {},
   "outputs": [],
   "source": [
    "ncds_pca "
   ]
  },
  {
   "cell_type": "code",
   "execution_count": null,
   "metadata": {},
   "outputs": [],
   "source": [
    "scree_plot(pca)"
   ]
  },
  {
   "cell_type": "code",
   "execution_count": null,
   "metadata": {},
   "outputs": [],
   "source": [
    "# cluster predictions for the customer population demographics data.\n",
    "\n",
    "y_cust_kmeans = kmeans.predict(ncds_pca)\n",
    "\n",
    "\n",
    "#modified code found here: https://medium.com/analytics-vidhya/clustering-analysis-of-mall-customer-bd785577f1b0\n",
    "plt.scatter(ncds_pca[y_cust_kmeans == 0, 0], ncds_pca[y_cust_kmeans == 0, 1], s = 100, c = 'pink', label = '0')\n",
    "plt.scatter(ncds_pca[y_cust_kmeans == 1, 0], ncds_pca[y_cust_kmeans == 1, 1], s = 100, c = 'yellow', label = '1')\n",
    "plt.scatter(ncds_pca[y_cust_kmeans == 2, 0], ncds_pca[y_cust_kmeans == 2, 1], s = 100, c = 'cyan', label = '2')\n",
    "plt.scatter(ncds_pca[y_cust_kmeans == 3, 0], ncds_pca[y_cust_kmeans == 3, 1], s = 100, c = 'magenta', label = '3')\n",
    "\n",
    "centers = kmeans.cluster_centers_\n",
    "plt.scatter(centers[:,0], centers[:, 1], s = 50, c = 'black' , label = 'centeroid')\n",
    "\n",
    "plt.style.use('fivethirtyeight')\n",
    "plt.title('K Means Clustering - Customer Demographics Data', fontsize = 20)\n",
    "\n",
    "plt.legend()\n",
    "plt.grid()\n",
    "plt.show()"
   ]
  },
  {
   "cell_type": "markdown",
   "metadata": {},
   "source": [
    "### Step 3.3: Compare Customer Data to Demographics Data\n",
    "\n",
    "At this point, you have clustered data based on demographics of the general population of Germany, and seen how the customer data for a mail-order sales company maps onto those demographic clusters. In this final substep, you will compare the two cluster distributions to see where the strongest customer base for the company is.\n",
    "\n",
    "Consider the proportion of persons in each cluster for the general population, and the proportions for the customers. If we think the company's customer base to be universal, then the cluster assignment proportions should be fairly similar between the two. If there are only particular segments of the population that are interested in the company's products, then we should see a mismatch from one to the other. If there is a higher proportion of persons in a cluster for the customer data compared to the general population (e.g. 5% of persons are assigned to a cluster for the general population, but 15% of the customer data is closest to that cluster's centroid) then that suggests the people in that cluster to be a target audience for the company. On the other hand, the proportion of the data in a cluster being larger in the general population than the customer data (e.g. only 2% of customers closest to a population centroid that captures 6% of the data) suggests that group of persons to be outside of the target demographics.\n",
    "\n",
    "Take a look at the following points in this step:\n",
    "\n",
    "- Compute the proportion of data points in each cluster for the general population and the customer data. Visualizations will be useful here: both for the individual dataset proportions, but also to visualize the ratios in cluster representation between groups. Seaborn's [`countplot()`](https://seaborn.pydata.org/generated/seaborn.countplot.html) or [`barplot()`](https://seaborn.pydata.org/generated/seaborn.barplot.html) function could be handy.\n",
    "  - Recall the analysis you performed in step 1.1.3 of the project, where you separated out certain data points from the dataset if they had more than a specified threshold of missing values. If you found that this group was qualitatively different from the main bulk of the data, you should treat this as an additional data cluster in this analysis. Make sure that you account for the number of data points in this subset, for both the general population and customer datasets, when making your computations!\n",
    "- Which cluster or clusters are overrepresented in the customer dataset compared to the general population? Select at least one such cluster and infer what kind of people might be represented by that cluster. Use the principal component interpretations from step 2.3 or look at additional components to help you make this inference. Alternatively, you can use the `.inverse_transform()` method of the PCA and StandardScaler objects to transform centroids back to the original data space and interpret the retrieved values directly.\n",
    "- Perform a similar investigation for the underrepresented clusters. Which cluster or clusters are underrepresented in the customer dataset compared to the general population, and what kinds of people are typified by these clusters?"
   ]
  },
  {
   "cell_type": "code",
   "execution_count": null,
   "metadata": {},
   "outputs": [],
   "source": [
    "#Percentages of General Demographics Data\n",
    "unique_labels, counts = np.unique(y_gen_kmeans, return_counts=True)\n",
    "percentages = counts / counts.sum() * 100\n",
    "\n",
    "plt.pie(percentages, labels=unique_labels, autopct='%1.1f%%')\n",
    "plt.title('Cluster Percentages')\n",
    "plt.show()"
   ]
  },
  {
   "cell_type": "code",
   "execution_count": null,
   "metadata": {},
   "outputs": [],
   "source": [
    "#Percentages of Customer Demographics Data\n",
    "unique_labels, counts = np.unique(y_cust_kmeans, return_counts=True)\n",
    "percentages = counts / counts.sum() * 100\n",
    "\n",
    "plt.pie(percentages, labels=unique_labels, autopct='%1.1f%%')\n",
    "plt.title('Cluster Percentages')\n",
    "plt.show()"
   ]
  },
  {
   "cell_type": "markdown",
   "metadata": {},
   "source": [
    "I will focus on Cluster 0 - which has an overrepresented % of Customer Data vs General Data."
   ]
  },
  {
   "cell_type": "code",
   "execution_count": null,
   "metadata": {},
   "outputs": [],
   "source": [
    "#To compare data for cluster 0 I removed PCA and Scaling on each dataset:\n",
    "\n",
    "#removing PCA on general data\n",
    "gen_data=pca.inverse_transform(cgds_pca)\n",
    "\n",
    "#removing scaling on general data\n",
    "gen_data_unscaled=scaler.inverse_transform(gen_data)\n",
    "\n",
    "#converting back to dataframe\n",
    "gen_data_df=pd.DataFrame(gen_data_unscaled, columns=data.columns)\n",
    "\n"
   ]
  },
  {
   "cell_type": "code",
   "execution_count": null,
   "metadata": {},
   "outputs": [],
   "source": [
    "#removing PCA on customer data\n",
    "cust_data=pca.inverse_transform(ncds_pca)\n",
    "\n",
    "#removing scaling on customer data\n",
    "cust_data_unscaled=scaler.inverse_transform(cust_data)\n",
    "\n",
    "#converting back to dataframe\n",
    "cust_data_df=pd.DataFrame(cust_data_unscaled, columns=data.columns)"
   ]
  },
  {
   "cell_type": "markdown",
   "metadata": {},
   "source": [
    "Focusing on the top 3 and bottom 3 of the 2 cluster:\n",
    "\n",
    "Top 3:\n",
    "\n",
    " - SEMIO_REL\n",
    " - FINANZ_SPARER\n",
    " - SEMIO_PFLICHT\n",
    " \n",
    "Bottom 3: \n",
    " - SEMIO_ERL\n",
    " - FINANZ_VORSORGER\n",
    " - ALTERSKATEGORIE_GROB\n"
   ]
  },
  {
   "cell_type": "code",
   "execution_count": null,
   "metadata": {},
   "outputs": [],
   "source": [
    "#modified code found here: https://mode.com/python-tutorial/python-histograms-boxplots-and-distributions\n",
    "\n",
    "features = ['SEMIO_REL', 'FINANZ_SPARER', 'SEMIO_PFLICHT', 'SEMIO_ERL', 'FINANZ_VORSORGER', 'ALTERSKATEGORIE_GROB']\n",
    "\n",
    "\n",
    "fig, axes = plt.subplots(2, 3, figsize=(15, 10))\n",
    "axes = axes.flatten()\n",
    "\n",
    "for i, feature in enumerate(features):\n",
    "    axes[i].hist(cust_data_df[feature], bins=20)\n",
    "    axes[i].set_title(feature)\n",
    "\n",
    "plt.tight_layout()\n",
    "plt.show()"
   ]
  },
  {
   "cell_type": "markdown",
   "metadata": {},
   "source": [
    "Representation of people in Cluster 2:\n",
    "\n",
    " - SEMIO_REL: (Religious Affinity): average affinity\n",
    " - FINANZ_SPARER: (money-saver): very high\n",
    " - SEMIO_PFLICHT: (dutiful): high to very high affinity\n",
    " - SEMIO_ERL: (event-oriented): average affinity\n",
    " - FINANZ_VORSORGER: (be prepared): very low affinity\n",
    " - ALTERSKATEGORIE_GROB: (Estimated age based on given name analysis): 46-60 years old and over 60.\n",
    "\n"
   ]
  },
  {
   "cell_type": "markdown",
   "metadata": {},
   "source": [
    "### Discussion 3.3: Compare Customer Data to Demographics Data\n",
    "\n",
    "The company's customer base is not universal as the general demographics clusters are very balanced around each centeroid, whereas the customer demographics is not.\n",
    "\n",
    "Cluster 0 is overrepresented in the customer data as compared to demographics data. There is a higher percent in the customer demographics than the general demographics suggesting people in this cluster would be a target for the company.  \n",
    "\n",
    "Based on this analysis, I would urge the company to focus on older, event-oriented people with a religious affinity and a tendency to be dutiful and save their money."
   ]
  },
  {
   "cell_type": "markdown",
   "metadata": {},
   "source": [
    "> Congratulations on making it this far in the project! Before you finish, make sure to check through the entire notebook from top to bottom to make sure that your analysis follows a logical flow and all of your findings are documented in **Discussion** cells. Once you've checked over all of your work, you should export the notebook as an HTML document to submit for evaluation. You can do this from the menu, navigating to **File -> Download as -> HTML (.html)**. You will submit both that document and this notebook for your project submission."
   ]
  },
  {
   "cell_type": "code",
   "execution_count": null,
   "metadata": {},
   "outputs": [],
   "source": []
  }
 ],
 "metadata": {
  "kernelspec": {
   "display_name": "Python 3",
   "language": "python",
   "name": "python3"
  },
  "language_info": {
   "codemirror_mode": {
    "name": "ipython",
    "version": 3
   },
   "file_extension": ".py",
   "mimetype": "text/x-python",
   "name": "python",
   "nbconvert_exporter": "python",
   "pygments_lexer": "ipython3",
   "version": "3.6.3"
  }
 },
 "nbformat": 4,
 "nbformat_minor": 2
}
